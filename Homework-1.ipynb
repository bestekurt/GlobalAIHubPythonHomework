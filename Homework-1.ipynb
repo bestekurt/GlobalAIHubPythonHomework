{
 "cells": [
  {
   "cell_type": "code",
   "execution_count": 2,
   "metadata": {},
   "outputs": [
    {
     "name": "stdout",
     "output_type": "stream",
     "text": [
      "Please enter an integer value: 5\n",
      "Please enter a string value: beste\n",
      "Please enter a boolean value: 1\n",
      "Please enter a float value: 2.3\n",
      "Please enter a complex value: 5-j\n",
      "The class of the value you entered:<class 'int'>\n",
      "The class of the value you entered:<class 'str'>\n",
      "The class of the value you entered:<class 'bool'>\n",
      "The class of the value you entered:<class 'float'>\n",
      "The class of the value you entered:<class 'complex'>\n"
     ]
    }
   ],
   "source": [
    "a=int(input(\"Please enter an integer value: \"))\n",
    "b=str(input(\"Please enter a string value: \"))\n",
    "c=bool(input(\"Please enter a boolean value: \"))\n",
    "d=float(input(\"Please enter a float value: \"))\n",
    "e=complex(input(\"Please enter a complex value: \"))\n",
    "\n",
    "print(\"The class of the value you entered:{}\".format(type(a)))\n",
    "print(\"The class of the value you entered:{}\".format(type(b)))\n",
    "print(\"The class of the value you entered:{}\".format(type(c)))\n",
    "print(\"The class of the value you entered:{}\".format(type(d)))\n",
    "print(\"The class of the value you entered:{}\".format(type(e)))"
   ]
  },
  {
   "cell_type": "code",
   "execution_count": null,
   "metadata": {},
   "outputs": [],
   "source": []
  }
 ],
 "metadata": {
  "kernelspec": {
   "display_name": "Python 3",
   "language": "python",
   "name": "python3"
  },
  "language_info": {
   "codemirror_mode": {
    "name": "ipython",
    "version": 3
   },
   "file_extension": ".py",
   "mimetype": "text/x-python",
   "name": "python",
   "nbconvert_exporter": "python",
   "pygments_lexer": "ipython3",
   "version": "3.8.5"
  }
 },
 "nbformat": 4,
 "nbformat_minor": 4
}
