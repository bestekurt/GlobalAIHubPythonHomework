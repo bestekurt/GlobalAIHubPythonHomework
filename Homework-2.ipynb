{
 "cells": [
  {
   "cell_type": "code",
   "execution_count": 1,
   "metadata": {},
   "outputs": [
    {
     "name": "stdout",
     "output_type": "stream",
     "text": [
      "Please enter your user first name: Beste\n",
      "Please enter your last name: Kurt\n",
      "Please enter your age: 21\n",
      "Please enter your birth year: 1999\n",
      "Beste\n",
      "Kurt\n",
      "21\n",
      "1999\n",
      "You can go out to the street.\n"
     ]
    }
   ],
   "source": [
    "user=[]\n",
    "user_firstname=input(\"Please enter your user first name: \")\n",
    "user_lastname=input(\"Please enter your last name: \")\n",
    "user_age=int(input(\"Please enter your age: \"))\n",
    "user_birthofyear=int(input(\"Please enter your birth year: \"))\n",
    "user.append(user_firstname)\n",
    "user.append(user_lastname)\n",
    "user.append(user_age)\n",
    "user.append(user_birthofyear)\n",
    "\n",
    "for i in user:\n",
    "    print(i)\n",
    "\n",
    "if user_age<=18:\n",
    "        print(\"You can't go out because it's too dangerous.\")\n",
    "else:\n",
    "        print(\"You can go out to the street.\")\n"
   ]
  },
  {
   "cell_type": "code",
   "execution_count": null,
   "metadata": {},
   "outputs": [],
   "source": []
  }
 ],
 "metadata": {
  "kernelspec": {
   "display_name": "Python 3",
   "language": "python",
   "name": "python3"
  },
  "language_info": {
   "codemirror_mode": {
    "name": "ipython",
    "version": 3
   },
   "file_extension": ".py",
   "mimetype": "text/x-python",
   "name": "python",
   "nbconvert_exporter": "python",
   "pygments_lexer": "ipython3",
   "version": "3.8.5"
  }
 },
 "nbformat": 4,
 "nbformat_minor": 4
}
